{
  "nbformat": 4,
  "nbformat_minor": 0,
  "metadata": {
    "colab": {
      "provenance": [],
      "authorship_tag": "ABX9TyOVO2NVPMjhSr9fWR7RxK8p",
      "include_colab_link": true
    },
    "kernelspec": {
      "name": "python3",
      "display_name": "Python 3"
    },
    "language_info": {
      "name": "python"
    }
  },
  "cells": [
    {
      "cell_type": "markdown",
      "metadata": {
        "id": "view-in-github",
        "colab_type": "text"
      },
      "source": [
        "<a href=\"https://colab.research.google.com/github/ShabnamShaikh2614/HarmfullComments/blob/main/Harmfulcomments.ipynb\" target=\"_parent\"><img src=\"https://colab.research.google.com/assets/colab-badge.svg\" alt=\"Open In Colab\"/></a>"
      ]
    },
    {
      "cell_type": "code",
      "execution_count": null,
      "metadata": {
        "id": "JTXYvO4DOVHD"
      },
      "outputs": [],
      "source": []
    },
    {
      "cell_type": "markdown",
      "source": [
        "# **Harmful Comment Blocker using Python**\n",
        "**Aim:**\n",
        " To Create a basic AI-inspired Python script that detects harmful or hate related words in user Comments and blocks the user to prevent the spread of violence or hate on social media.\n",
        "\n",
        " **Description:**\n",
        " This project scans user-generated comments for specific harmful keywords like (\"kill,attack, hate,bom etc\"). if any such word is found the user is marked as blocked from your profile.\n",
        "\n",
        " **Function and logic used:**\n",
        "\n",
        "\n",
        "*   **Keyword list:** A predefined list of harmful words is used to compare against the user's comment.\n",
        "\n",
        "*  **Text Processing:** The comment is converted to lowercase and cleaned using regular experssions to isolate words.\n",
        "\n",
        "\n",
        "*   **Logic:** The program checks if any harmful keyword is present in the comment. if found, it blocks the user by printing a message.\n",
        "\n",
        "\n",
        "\n",
        "\n",
        "\n"
      ],
      "metadata": {
        "id": "ZJDF7fKgOfuB"
      }
    },
    {
      "cell_type": "markdown",
      "source": [
        "# **Rule Based Approach**"
      ],
      "metadata": {
        "id": "DzbuYSov40GW"
      }
    },
    {
      "cell_type": "code",
      "source": [
        "harmful_keyword=[\"terrorist\",\"attack\",\"kill\",\"harm\",\"bomb\",\"violence\",\"hate\",\"murder\"]\n",
        "user_id=\"user1223\"\n",
        "comment=input(\"Enter comment:\").lower()\n",
        "if any(word in comment for word in harmful_keyword):\n",
        "  print(f\"{user_id} blocked from your profile for harmful comment.\")\n",
        "else:\n",
        "  print(f\"{user_id} is safe. No harmful content detected.\")\n"
      ],
      "metadata": {
        "colab": {
          "base_uri": "https://localhost:8080/"
        },
        "id": "KOHfB4-8R6rw",
        "outputId": "9654c5e8-2314-4597-8be2-2c73ef374632"
      },
      "execution_count": null,
      "outputs": [
        {
          "output_type": "stream",
          "name": "stdout",
          "text": [
            "Enter comment:i will bring bomb\n",
            "user1223 blocked from your profile for harmful comment.\n"
          ]
        }
      ]
    },
    {
      "cell_type": "markdown",
      "source": [
        "**Block list of Harmfull comment users**"
      ],
      "metadata": {
        "id": "jtbHR99TU-E8"
      }
    },
    {
      "cell_type": "code",
      "source": [
        "user_comments=[\n",
        "    {\"id\":\"user101\",\"comment\":\"I want to harm this nation\"},\n",
        "     {\"id\":\"user102\",\"comment\":\" Spread love and peace everywhere\"},\n",
        "     {\"id\":\"user103\",\"comment\":\"We should kill them all\"},\n",
        "     {\"id\":\"user202\",\"comment\":\"Please save them\"},\n",
        "     {\"id\":\"user204\",\"comment\":\"we proud of you india\"},\n",
        "     {\"id\":\"user206\",\"comment\":\"this is truly they are terrorist\"}\n",
        "]"
      ],
      "metadata": {
        "id": "XEaAB2YqT2FK"
      },
      "execution_count": null,
      "outputs": []
    },
    {
      "cell_type": "code",
      "source": [
        "import re\n",
        "user_comments=[\n",
        "    {\"id\":\"user101\",\"comment\":\"I want to harm this nation\"},\n",
        "     {\"id\":\"user102\",\"comment\":\" Spread love and peace everywhere\"},\n",
        "     {\"id\":\"user103\",\"comment\":\"We should kill them all\"},\n",
        "     {\"id\":\"user202\",\"comment\":\"Please save them\"},\n",
        "     {\"id\":\"user204\",\"comment\":\"we proud of you india\"},\n",
        "     {\"id\":\"user206\",\"comment\":\"this is truly they are terrorist\"}\n",
        "]\n",
        "harmful_keyword=[\"terrorist\",\"attack\",\"kill\",\"harm\",\"bomb\",\"violence\",\"hate\",\"murder\"]\n",
        "blocked_users=[]\n",
        "for user in user_comments:\n",
        "  user_id=user[\"id\"]\n",
        "  comment=user[\"comment\"].lower()\n",
        "  words = re.findall(r'\\b\\w+\\b', comment) #regex to match whole words\n",
        "  if any(word in harmful_keyword for word in words):\n",
        "    print(f\"{user_id} blocked users from your profile:\\\"{comment}\\\"\")\n",
        "    blocked_users.append(user_id)\n",
        "\n",
        "print(\"Blocked Users:\", blocked_users) #blocked_users list only once at the end"
      ],
      "metadata": {
        "colab": {
          "base_uri": "https://localhost:8080/"
        },
        "id": "hp1Hw1_QWY0s",
        "outputId": "05848cef-2c71-497f-d22a-6ed9ecf7f744"
      },
      "execution_count": null,
      "outputs": [
        {
          "output_type": "stream",
          "name": "stdout",
          "text": [
            "user101 blocked users from your profile:\"i want to harm this nation\"\n",
            "user103 blocked users from your profile:\"we should kill them all\"\n",
            "user206 blocked users from your profile:\"this is truly they are terrorist\"\n",
            "Blocked Users: ['user101', 'user103', 'user206']\n"
          ]
        }
      ]
    }
  ]
}